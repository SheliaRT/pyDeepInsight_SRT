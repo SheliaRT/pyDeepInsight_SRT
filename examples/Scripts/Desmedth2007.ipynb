{
 "cells": [
  {
   "cell_type": "code",
   "execution_count": 561,
   "metadata": {},
   "outputs": [],
   "source": [
    "## PACKAGES\n",
    "\n",
    "\n",
    "import pandas as pd\n",
    "import numpy as np\n",
    "from sklearn.model_selection import train_test_split\n",
    "from sklearn.preprocessing import MinMaxScaler, LabelEncoder\n",
    "import umap.umap_ as umap\n",
    "import torch\n",
    "import torchvision.transforms as transforms\n",
    "import timm\n",
    "from torch.utils.data import TensorDataset, DataLoader\n",
    "import torch.nn as nn\n",
    "import torch.optim as optim\n",
    "from sklearn.metrics import accuracy_score\n",
    "from sklearn.metrics import confusion_matrix\n",
    "import seaborn as sn\n",
    "import matplotlib.pyplot as plt\n",
    "\n",
    "from IPython.display import display, clear_output\n",
    "import sys\n",
    "sys.path.insert(1,'/home/shelia/AllFiles/Research_tuly/pyDeepInsight/pyDeepInsight_SRT/')\n",
    "from pyDeepInsight import ImageTransformer, CAMFeatureSelector"
   ]
  },
  {
   "cell_type": "code",
   "execution_count": 566,
   "metadata": {},
   "outputs": [],
   "source": [
    "##LOAD DATA\n",
    "expr_file = r\"../data/Survival_TCGA_VS_Desmd/filtered_desmd_average_ver1.csv\"\n",
    "expr1 = pd.read_csv(expr_file, encoding='utf-8', engine='python')\n",
    "expr=expr1.transpose()\n",
    "expr.columns=expr.iloc[0]\n",
    "X_all = expr.iloc[1:,1:-1].values\n",
    "X_all=X_all.astype(float)\n",
    "days= expr.iloc[1:,-1].values\n",
    "genes = expr.iloc[:,:-1].columns.to_numpy()\n"
   ]
  },
  {
   "cell_type": "code",
   "execution_count": 572,
   "metadata": {},
   "outputs": [
    {
     "data": {
      "text/plain": [
       "(198, 12586)"
      ]
     },
     "execution_count": 572,
     "metadata": {},
     "output_type": "execute_result"
    }
   ],
   "source": [
    "X_all.shape"
   ]
  },
  {
   "cell_type": "code",
   "execution_count": 577,
   "metadata": {},
   "outputs": [],
   "source": [
    "X=np.zeros((160,12586))\n",
    "Y=[]\n",
    "check=[]\n",
    "j=0\n",
    "for i in range(198):\n",
    "    if days[i]<=1500:\n",
    "        X[j]=X[j]+X_all[i]\n",
    "        Y.append('short')\n",
    "        check.append(days[i])\n",
    "        j=j+1\n",
    "    if days[i]>=3000:\n",
    "        X[j]=X[j]+X_all[i]\n",
    "        Y.append('long')\n",
    "        check.append(days[i])\n",
    "        j=j+1\n",
    "    "
   ]
  },
  {
   "cell_type": "code",
   "execution_count": 581,
   "metadata": {},
   "outputs": [
    {
     "data": {
      "text/plain": [
       "array(['short', 'short', 'short', 'long', 'long', 'short', 'long', 'long',\n",
       "       'short', 'short', 'long', 'long', 'short', 'short', 'short',\n",
       "       'short', 'long', 'long', 'long', 'long', 'short', 'long', 'long',\n",
       "       'short', 'long', 'long', 'long', 'long', 'short', 'long', 'short',\n",
       "       'long', 'short', 'long', 'long', 'long', 'short', 'short', 'long',\n",
       "       'short', 'long', 'short', 'long', 'long', 'long', 'short', 'short',\n",
       "       'long', 'short', 'long', 'long', 'long', 'short', 'long', 'short',\n",
       "       'long', 'long', 'long', 'long', 'long', 'short', 'short', 'long',\n",
       "       'long', 'short', 'long', 'long', 'long', 'long', 'long', 'long',\n",
       "       'long', 'long', 'long', 'short', 'long', 'long', 'long', 'long',\n",
       "       'long', 'short', 'short', 'short', 'long', 'long', 'long', 'short',\n",
       "       'short', 'short', 'long', 'long', 'long', 'short', 'short', 'long',\n",
       "       'long', 'long', 'long', 'long', 'short', 'long', 'long', 'long',\n",
       "       'long', 'long', 'short', 'long', 'long', 'long', 'short', 'long',\n",
       "       'long', 'long', 'long', 'short', 'long', 'long', 'long', 'long',\n",
       "       'long', 'long', 'long', 'long', 'short', 'long', 'short', 'long',\n",
       "       'long', 'long', 'long', 'short', 'long', 'short', 'long', 'long',\n",
       "       'long', 'long', 'short', 'long', 'long', 'long', 'long', 'long',\n",
       "       'long', 'long', 'short', 'long', 'long', 'long', 'long', 'long',\n",
       "       'long', 'long', 'short', 'long', 'long', 'long', 'long', 'short',\n",
       "       'short'], dtype='<U5')"
      ]
     },
     "execution_count": 581,
     "metadata": {},
     "output_type": "execute_result"
    }
   ],
   "source": [
    "Y=np.array(Y)\n",
    "Y"
   ]
  },
  {
   "cell_type": "code",
   "execution_count": 582,
   "metadata": {},
   "outputs": [],
   "source": [
    "random_state=1515\n",
    "X_train, X_test, y_train, y_test = train_test_split(\n",
    "X, Y, test_size=0.2, shuffle=True, stratify=Y)"
   ]
  },
  {
   "cell_type": "code",
   "execution_count": 583,
   "metadata": {},
   "outputs": [
    {
     "data": {
      "text/plain": [
       "(12586,)"
      ]
     },
     "execution_count": 583,
     "metadata": {},
     "output_type": "execute_result"
    }
   ],
   "source": [
    "X_train[0].shape"
   ]
  },
  {
   "cell_type": "code",
   "execution_count": null,
   "metadata": {},
   "outputs": [],
   "source": [
    "chosen_samples=X_train[y_train=='long']\n",
    "chosen_samples2=X_train[y_train=='short']\n",
    "chosen_indices=np.random.choice(chosen_samples.shape[0], size=50, replace=False)\n",
    "chosen_samples=chosen_samples[chosen_indices]\n",
    "X_train_modified=np.zeros((100,12586))\n",
    "y_train_modified=np.empty((100),dtype=object)\n",
    "j=0\n",
    "for i in range(0,100,2):\n",
    "    X_train_modified[i]=X_train_modified[i]+chosen_samples[j]\n",
    "    X_train_modified[i+1]=X_train_modified[i+1]+chosen_samples2[j]\n",
    "    y_train_modified[i]=\"long\"\n",
    "    y_train_modified[i+1]=\"short\"\n",
    "    j=j+1\n",
    "    #y_train_modified[i+1]=\"short\""
   ]
  },
  {
   "attachments": {},
   "cell_type": "markdown",
   "metadata": {},
   "source": [
    "Remove low variance data. In this case the bottom 30%."
   ]
  },
  {
   "cell_type": "code",
   "execution_count": null,
   "metadata": {},
   "outputs": [],
   "source": [
    "#var_filter = X.var(0) >= np.percentile(X.var(0), 30., method='nearest')"
   ]
  },
  {
   "cell_type": "code",
   "execution_count": 584,
   "metadata": {},
   "outputs": [],
   "source": [
    "mms = MinMaxScaler()\n",
    "X_train_norm = mms.fit_transform(X_train)\n",
    "X_test_norm = mms.transform(X_test)\n"
   ]
  },
  {
   "attachments": {},
   "cell_type": "markdown",
   "metadata": {},
   "source": [
    "Encode the classes"
   ]
  },
  {
   "cell_type": "code",
   "execution_count": 585,
   "metadata": {},
   "outputs": [],
   "source": [
    "le = LabelEncoder()\n",
    "y_train_enc = le.fit_transform(y_train)\n",
    "y_test_enc = le.transform(y_test)\n",
    "\n",
    "le_mapping = dict(zip(le.transform(le.classes_), le.classes_))\n",
    "num_classes = np.unique(y_train_enc).size"
   ]
  },
  {
   "cell_type": "code",
   "execution_count": 586,
   "metadata": {},
   "outputs": [
    {
     "name": "stdout",
     "output_type": "stream",
     "text": [
      "int64\n"
     ]
    }
   ],
   "source": [
    "num_classes\n",
    "np.sum(y_train_enc==0)\n",
    "print(y_train_enc.dtype)"
   ]
  },
  {
   "attachments": {},
   "cell_type": "markdown",
   "metadata": {},
   "source": [
    "## DeepInsight Image Transformation\n",
    "Convert data to image format using DeepInsight"
   ]
  },
  {
   "cell_type": "code",
   "execution_count": 587,
   "metadata": {},
   "outputs": [],
   "source": [
    "reducer = umap.UMAP(\n",
    "    #n_neighbors=40,\n",
    "    n_components=2,\n",
    "    min_dist=0.5,\n",
    "    metric='cosine',\n",
    "    n_jobs=-1,\n",
    "    ##random_state=42\n",
    ")\n",
    "\n",
    "pixel_size = (32,32)\n",
    "\n",
    "it = ImageTransformer(\n",
    "    feature_extractor='kPCA',\n",
    "    pixels=pixel_size)\n"
   ]
  },
  {
   "cell_type": "code",
   "execution_count": 588,
   "metadata": {},
   "outputs": [
    {
     "name": "stdout",
     "output_type": "stream",
     "text": [
      "printing chvertices\n"
     ]
    },
    {
     "name": "stderr",
     "output_type": "stream",
     "text": [
      "/home/shelia/AllFiles/Research_tuly/pyDeepInsight/pyDeepInsight_SRT/pyDeepInsight/image_transformer.py:276: UserWarning: No data for colormapping provided via 'c'. Parameters 'cmap' will be ignored\n",
      "  plt.scatter(x_new[:, 0], x_new[:, 1], s=1,\n"
     ]
    },
    {
     "data": {
      "image/png": "[encoded data removed]",
      "text/plain": [
       "<Figure size 640x480 with 1 Axes>"
      ]
     },
     "metadata": {},
     "output_type": "display_data"
    },
    {
     "data": {
      "text/plain": [
       "<pyDeepInsight.image_transformer.ImageTransformer at 0x7ff7ed11e3d0>"
      ]
     },
     "execution_count": 588,
     "metadata": {},
     "output_type": "execute_result"
    }
   ],
   "source": [
    "it.fit(X_train_norm, y=y_train, plot=True)"
   ]
  },
  {
   "cell_type": "code",
   "execution_count": 590,
   "metadata": {},
   "outputs": [],
   "source": [
    "X_train_img = it.transform(X_train_norm)\n",
    "X_test_img = it.transform(X_test_norm)"
   ]
  },
  {
   "cell_type": "code",
   "execution_count": 589,
   "metadata": {},
   "outputs": [],
   "source": [
    "import torchvision.transforms as transforms\n",
    "from PIL import Image"
   ]
  },
  {
   "cell_type": "code",
   "execution_count": 347,
   "metadata": {},
   "outputs": [
    {
     "data": {
      "text/plain": [
       "[array([2, 4, 6]), array([ 8, 10, 12])]"
      ]
     },
     "execution_count": 347,
     "metadata": {},
     "output_type": "execute_result"
    }
   ],
   "source": [
    "s=np.array([[1,2,3],\n",
    "   [4,5,6]],dtype=int)\n",
    "f=[x*2 for x in s]\n",
    "f"
   ]
  },
  {
   "cell_type": "code",
   "execution_count": 543,
   "metadata": {},
   "outputs": [
    {
     "data": {
      "text/plain": [
       "(79, 32, 32, 3)"
      ]
     },
     "execution_count": 543,
     "metadata": {},
     "output_type": "execute_result"
    }
   ],
   "source": [
    "chosen_samples1=X_train_img[y_train_enc==0]\n",
    "chosen_samples2=X_train_img[y_train_enc==1]\n",
    "chosen_indices=np.random.choice(chosen_samples2.shape[0], size=29, replace=False)\n",
    "transforming_samples=chosen_samples2[chosen_indices]\n",
    "transforming_samples=transforming_samples.astype(np.uint8)\n",
    "#chosen_samples=chosen_samples2[~chosen_indices]\n",
    "\n",
    "transforming_samples=[Image.fromarray(image) for image in transforming_samples]\n",
    "\n",
    "data_transforms = transforms.Compose([\n",
    "    transforms.RandomRotation(degrees=30),\n",
    "    #transforms.ToTensor(),\n",
    "    #transforms.Normalize(mean=[0.485, 0.456, 0.406], std=[0.229, 0.224, 0.225]),\n",
    "])\n",
    "\n",
    "transformed_samples=[data_transforms(x) for x in transforming_samples]\n",
    "transformed_samples=[np.array(x) for x in transforming_samples]\n",
    "new_shorts=np.concatenate((chosen_samples2,transformed_samples))\n",
    "new_shorts.shape\n",
    "    #y_train_modified[i+1]=\"short\""
   ]
  },
  {
   "cell_type": "code",
   "execution_count": 544,
   "metadata": {},
   "outputs": [],
   "source": [
    "X_train_modified=np.zeros((79*2,32,32,3))\n",
    "y_train_modified=np.empty((79*2),dtype=int)\n",
    "j=0\n",
    "for i in range (0,79*2,2):\n",
    "    X_train_modified[i]=X_train_modified[i]+chosen_samples1[j]\n",
    "    X_train_modified[i+1]=X_train_modified[i+1]+new_shorts[j]\n",
    "    y_train_modified[i]=0\n",
    "    y_train_modified[i+1]=1\n",
    "    j=j+1\n",
    "    "
   ]
  },
  {
   "cell_type": "code",
   "execution_count": 361,
   "metadata": {},
   "outputs": [
    {
     "data": {
      "text/plain": [
       "True"
      ]
     },
     "execution_count": 361,
     "metadata": {},
     "output_type": "execute_result"
    }
   ],
   "source": [
    "np.array_equal(chosen_samples1[0],X_train_img[2])"
   ]
  },
  {
   "cell_type": "markdown",
   "metadata": {},
   "source": [
    "## U-net Based Classifiation:"
   ]
  },
  {
   "cell_type": "code",
   "execution_count": 591,
   "metadata": {},
   "outputs": [],
   "source": [
    "device = torch.device('cuda' if torch.cuda.is_available() else 'cpu')\n",
    "\n"
   ]
  },
  {
   "cell_type": "code",
   "execution_count": 404,
   "metadata": {},
   "outputs": [],
   "source": [
    "class CNN(torch.nn.Module): \n",
    "    def __init__(self): \n",
    "        super().__init__() \n",
    "        self.model = torch.nn.Sequential( \n",
    "            #Input = 3 x 256 x 256, Output = 224 x 224 x 224 \n",
    "            torch.nn.Conv2d(in_channels = 3, out_channels = 32, kernel_size = 3, padding = 1),  \n",
    "            #torch.nn.BatchNorm2d(224),\n",
    "            torch.nn.ReLU(), \n",
    "            #Input = 256 x 256 x 256, Output = 256 x 128 x 128 \n",
    "            torch.nn.MaxPool2d(kernel_size=2), \n",
    "           \n",
    "            \n",
    "\n",
    "            torch.nn.Conv2d(in_channels = 32, out_channels = 64, kernel_size = 3, padding = 1), \n",
    "            #torch.nn.BatchNorm2d(224),\n",
    "            torch.nn.ReLU(), \n",
    "            # # # #Input = 512 x 16 x 16 , Output = 512 x 8 x 8  \n",
    "            # #torch.nn.MaxPool2d(kernel_size=4),\n",
    "            # # # # torch.nn.ReLU(), \n",
    "            torch.nn.MaxPool2d(kernel_size=2),\n",
    "\n",
    "            torch.nn.Conv2d(in_channels = 64, out_channels = 64, kernel_size = 3, padding = 1),\n",
    "            # torch.nn.BatchNorm2d(448), \n",
    "            torch.nn.ReLU(), \n",
    "            torch.nn.MaxPool2d(kernel_size=2),\n",
    "\n",
    "            # torch.nn.Conv2d(in_channels = 256, out_channels = 256, kernel_size = 3, padding = 1), \n",
    "            # torch.nn.ReLU(), \n",
    "            # # # #Input = 512 x 16 x 16 , Output = 512 x 8 x 8  \n",
    "            # #torch.nn.MaxPool2d(kernel_size=4),\n",
    "            # # # # torch.nn.ReLU(), \n",
    "            # torch.nn.MaxPool2d(kernel_size=4,stride=2),\n",
    "  \n",
    "            torch.nn.Flatten(), \n",
    "            torch.nn.Linear(64*4*4, 1024), \n",
    "            #torch.nn.BatchNorm1d(128),\n",
    "            torch.nn.ReLU(), \n",
    "            torch.nn.Linear(1024, 2),\n",
    "\n",
    "           \n",
    "        ) \n",
    "        self.layers=[]\n",
    "  \n",
    "    def forward(self, x): \n",
    "        input_shape=x.shape\n",
    "        self.layers=[(0,input_shape)]\n",
    "\n",
    "        for i,layer in enumerate(self.model):\n",
    "            x=layer(x)\n",
    "            output_shape=x.shape\n",
    "            self.layers.append((i+1,output_shape))\n",
    "        \n",
    "        return x"
   ]
  },
  {
   "cell_type": "code",
   "execution_count": 377,
   "metadata": {},
   "outputs": [
    {
     "name": "stdout",
     "output_type": "stream",
     "text": [
      "Layer 0: Input shape = 0, Output shape = torch.Size([1, 3, 32, 32])\n",
      "Layer 1: Input shape = 1, Output shape = torch.Size([1, 32, 32, 32])\n",
      "Layer 2: Input shape = 2, Output shape = torch.Size([1, 32, 32, 32])\n",
      "Layer 3: Input shape = 3, Output shape = torch.Size([1, 32, 16, 16])\n",
      "Layer 4: Input shape = 4, Output shape = torch.Size([1, 64, 16, 16])\n",
      "Layer 5: Input shape = 5, Output shape = torch.Size([1, 64, 16, 16])\n",
      "Layer 6: Input shape = 6, Output shape = torch.Size([1, 64, 8, 8])\n",
      "Layer 7: Input shape = 7, Output shape = torch.Size([1, 64, 8, 8])\n",
      "Layer 8: Input shape = 8, Output shape = torch.Size([1, 64, 8, 8])\n",
      "Layer 9: Input shape = 9, Output shape = torch.Size([1, 64, 4, 4])\n",
      "Layer 10: Input shape = 10, Output shape = torch.Size([1, 1024])\n",
      "Layer 11: Input shape = 11, Output shape = torch.Size([1, 128])\n",
      "Layer 12: Input shape = 12, Output shape = torch.Size([1, 128])\n",
      "Layer 13: Input shape = 13, Output shape = torch.Size([1, 2])\n"
     ]
    }
   ],
   "source": [
    "model = CNN().to(device)\n",
    "input_tensor=torch.randn(1,3,32,32).to(device)\n",
    "output_tensor, layers_info = model(input_tensor)\n",
    "for i, ((input_shape, output_shape)) in enumerate(layers_info):\n",
    "    print(f\"Layer {i}: Input shape = {input_shape}, Output shape = {output_shape}\")"
   ]
  },
  {
   "cell_type": "code",
   "execution_count": 592,
   "metadata": {},
   "outputs": [],
   "source": [
    "#Selecting the appropriate training device \n",
    "model = CNN().to(device)\n",
    "\n",
    "batch_size=5\n",
    "preprocess = transforms.Compose([\n",
    "    transforms.ToTensor(),\n",
    "    #transforms.Normalize(mean=net.default_cfg['mean'], std=net.default_cfg['std']),\n",
    "])\n",
    "\n",
    "X_train_tensor = torch.stack([preprocess(img) for img in X_train_img]).float().to(device)\n",
    "y_train_tensor = torch.from_numpy(y_train_enc).to(device)\n",
    "trainset = TensorDataset(X_train_tensor, y_train_tensor)\n",
    "trainloader = DataLoader(trainset, batch_size=batch_size, shuffle=True)\n",
    "\n",
    "X_test_tensor = torch.stack([preprocess(img) for img in X_test_img]).float().to(device)\n",
    "y_test_tensor = torch.from_numpy(y_test_enc).to(device)\n",
    "testset = TensorDataset(X_test_tensor, y_test_tensor)\n",
    "testloader = DataLoader(testset, batch_size=batch_size, shuffle=False)\n"
   ]
  },
  {
   "cell_type": "code",
   "execution_count": 593,
   "metadata": {},
   "outputs": [],
   "source": [
    "class EarlyStopping:\n",
    "    def __init__(self, patience=5, verbose=False, delta=0):\n",
    "        self.patience = patience\n",
    "        self.verbose = verbose\n",
    "        self.counter = 0\n",
    "        self.best_score = None\n",
    "        self.early_stop = False\n",
    "        self.delta = delta\n",
    "        self.val_loss_min = np.Inf\n",
    "\n",
    "    def __call__(self, val_loss, model):\n",
    "\n",
    "        score = -val_loss\n",
    "\n",
    "        if self.best_score is None:\n",
    "            self.best_score = score\n",
    "            self.save_checkpoint(val_loss, model)\n",
    "        elif score < self.best_score + self.delta:\n",
    "            self.counter += 1\n",
    "            print(f'EarlyStopping counter: {self.counter} out of {self.patience}')\n",
    "            if self.counter >= self.patience:\n",
    "                self.early_stop = True\n",
    "        else:\n",
    "            self.best_score = score\n",
    "            self.save_checkpoint(val_loss, model)\n",
    "            self.counter = 0\n",
    "\n",
    "    def save_checkpoint(self, val_loss, model):\n",
    "        '''Saves model when validation loss decrease.'''\n",
    "        if self.verbose:\n",
    "            print(f'Validation loss decreased ({self.val_loss_min:.6f} --> {val_loss:.6f}).  Saving model ...')\n",
    "        torch.save(model.state_dict(), 'checkpoint.pt')\n",
    "        self.val_loss_min = val_loss\n",
    "\n",
    "# Example usage:\n",
    "early_stopping = EarlyStopping(patience=10, verbose=True)\n"
   ]
  },
  {
   "cell_type": "code",
   "execution_count": 594,
   "metadata": {},
   "outputs": [
    {
     "data": {
      "text/plain": [
       "tensor(0.3086, device='cuda:0')"
      ]
     },
     "execution_count": 594,
     "metadata": {},
     "output_type": "execute_result"
    }
   ],
   "source": [
    "torch.mean(trainset[0][0][0])"
   ]
  },
  {
   "cell_type": "code",
   "execution_count": 595,
   "metadata": {},
   "outputs": [
    {
     "name": "stdout",
     "output_type": "stream",
     "text": [
      "Epoch 1/20: Validation loss decreased (inf --> 0.140223).  Saving model ...\n",
      "Epoch 2/20: Validation loss decreased (0.140223 --> 0.140138).  Saving model ...\n",
      "Epoch 3/20: Validation loss decreased (0.140138 --> 0.140052).  Saving model ...\n",
      "Epoch 4/20: Validation loss decreased (0.140052 --> 0.139989).  Saving model ...\n",
      "Epoch 5/20: Validation loss decreased (0.139989 --> 0.139863).  Saving model ...\n",
      "Epoch 6/20: Validation loss decreased (0.139863 --> 0.139799).  Saving model ...\n",
      "Epoch 7/20: Validation loss decreased (0.139799 --> 0.139719).  Saving model ...\n",
      "Epoch 8/20: Validation loss decreased (0.139719 --> 0.139664).  Saving model ...\n",
      "Epoch 9/20: Validation loss decreased (0.139664 --> 0.139557).  Saving model ...\n",
      "Epoch 10/20: Validation loss decreased (0.139557 --> 0.139472).  Saving model ...\n",
      "Epoch 11/20: Validation loss decreased (0.139472 --> 0.139352).  Saving model ...\n",
      "Epoch 12/20: Validation loss decreased (0.139352 --> 0.139270).  Saving model ...\n",
      "Epoch 13/20: Validation loss decreased (0.139270 --> 0.139185).  Saving model ...\n",
      "Epoch 14/20: Validation loss decreased (0.139185 --> 0.139101).  Saving model ...\n",
      "Epoch 15/20: Validation loss decreased (0.139101 --> 0.139066).  Saving model ...\n",
      "Epoch 16/20: Validation loss decreased (0.139066 --> 0.138990).  Saving model ...\n",
      "Epoch 17/20: Validation loss decreased (0.138990 --> 0.138958).  Saving model ...\n",
      "Epoch 18/20: Validation loss decreased (0.138958 --> 0.138885).  Saving model ...\n",
      "Epoch 19/20: Validation loss decreased (0.138885 --> 0.138869).  Saving model ...\n",
      "Epoch 20/20: Validation loss decreased (0.138869 --> 0.138684).  Saving model ...\n"
     ]
    }
   ],
   "source": [
    "#Defining the model hyper parameters \n",
    "num_epochs = 20\n",
    "learning_rate = 0.0001\n",
    "weight_decay = 0.01\n",
    "criterion = torch.nn.CrossEntropyLoss() \n",
    "optimizer = torch.optim.SGD(model.parameters(), lr=learning_rate, momentum=0.1) \n",
    "\n",
    "#Training process begins \n",
    "train_loss_list = [] \n",
    "for epoch in range(num_epochs): \n",
    "\tprint(f'Epoch {epoch+1}/{num_epochs}:', end = ' ') \n",
    "\ttrain_loss = 0\n",
    "\t\n",
    "\t#Iterating over the training dataset in batches \n",
    "\tmodel.train() \n",
    "\tfor i, (images, labels) in enumerate(trainloader): \n",
    "\t\t\n",
    "\t\t#Extracting images and target labels for the batch being iterated \n",
    "\t\timages = images.to(device) \n",
    "\t\tlabels = labels.to(device) \n",
    "\n",
    "\t\t#Calculating the model output and the cross entropy loss \n",
    "\t\toutputs = model(images) \n",
    "\t\tloss = criterion(outputs, labels) \n",
    "\n",
    "\t\t#Updating weights according to calculated loss \n",
    "\t\toptimizer.zero_grad() \n",
    "\t\tloss.backward() \n",
    "\t\toptimizer.step() \n",
    "\t\ttrain_loss += loss.item()\n",
    "\ttrain_loss /= len(trainloader.dataset)\n",
    "\tearly_stopping(train_loss, model)\n",
    "\t#Printing loss for each epoch \n",
    "\ttrain_loss_list.append(train_loss/len(trainloader)) \n",
    "\t\n",
    "\n",
    "\t#print(f\"Training loss = {train_loss_list[-1]}\") \n",
    "\tif early_stopping.early_stop:\n",
    "\t\tprint(\"Early stopping\")\n",
    "\t\tbreak\n",
    "\t\n"
   ]
  },
  {
   "cell_type": "code",
   "execution_count": 596,
   "metadata": {},
   "outputs": [
    {
     "name": "stdout",
     "output_type": "stream",
     "text": [
      "tensor([[0.0637, 0.0070],\n",
      "        [0.0654, 0.0060],\n",
      "        [0.0641, 0.0085],\n",
      "        [0.0644, 0.0042],\n",
      "        [0.0641, 0.0081]], device='cuda:0')\n",
      "tensor([[0.0629, 0.0093],\n",
      "        [0.0640, 0.0074],\n",
      "        [0.0640, 0.0061],\n",
      "        [0.0643, 0.0054],\n",
      "        [0.0620, 0.0065]], device='cuda:0')\n",
      "tensor([[0.0622, 0.0069],\n",
      "        [0.0626, 0.0098],\n",
      "        [0.0625, 0.0099],\n",
      "        [0.0609, 0.0086],\n",
      "        [0.0634, 0.0069]], device='cuda:0')\n",
      "tensor([[0.0633, 0.0050],\n",
      "        [0.0623, 0.0080],\n",
      "        [0.0637, 0.0067],\n",
      "        [0.0616, 0.0095],\n",
      "        [0.0627, 0.0089]], device='cuda:0')\n",
      "tensor([[0.0616, 0.0089],\n",
      "        [0.0621, 0.0081],\n",
      "        [0.0639, 0.0058],\n",
      "        [0.0626, 0.0095],\n",
      "        [0.0609, 0.0090]], device='cuda:0')\n",
      "tensor([[0.0633, 0.0057],\n",
      "        [0.0634, 0.0065],\n",
      "        [0.0644, 0.0068],\n",
      "        [0.0627, 0.0081],\n",
      "        [0.0637, 0.0075]], device='cuda:0')\n",
      "tensor([[0.0596, 0.0096],\n",
      "        [0.0635, 0.0067]], device='cuda:0')\n",
      "Test set accuracy = 68.75 %\n"
     ]
    }
   ],
   "source": [
    "test_acc=0\n",
    "model.eval() \n",
    "output_res=[]\n",
    "output_origin=[]\n",
    "exam=np.zeros((33,3,2))\n",
    "p=0\n",
    "  \n",
    "with torch.no_grad(): \n",
    "    #Iterating over the training dataset in batches \n",
    "    for i, (images, labels) in enumerate(testloader): \n",
    "          \n",
    "        images = images.to(device) \n",
    "        y_true = labels.to(device) \n",
    "        output_origin.extend(y_true.cpu().numpy())\n",
    "          \n",
    "        #Calculating outputs for the batch being iterated \n",
    "        outputx= model(images) \n",
    "          \n",
    "        #Calculated prediction labels from models \n",
    "        _, y_pred = torch.max(outputx.data, 1) \n",
    "        output_res.extend(y_pred.cpu().numpy())\n",
    "\n",
    "        #for debugging\n",
    "        #exam[p]=exam[p]+outputx.cpu().numpy()\n",
    "        p=p+1\n",
    "        print(outputx)\n",
    "        #Comparing predicted and true labels \n",
    "        test_acc += (y_pred == y_true).sum().item() \n",
    "      \n",
    "print(f\"Test set accuracy = {100 * test_acc / len(X_test_img)} %\")"
   ]
  },
  {
   "cell_type": "code",
   "execution_count": null,
   "metadata": {},
   "outputs": [],
   "source": [
    "exam=np.zeros((1,3,2))\n",
    "exam[0]=exam[0]+outputx.cpu().numpy()\n",
    "exam[0]"
   ]
  },
  {
   "cell_type": "code",
   "execution_count": 597,
   "metadata": {},
   "outputs": [
    {
     "data": {
      "text/plain": [
       "<Axes: >"
      ]
     },
     "execution_count": 597,
     "metadata": {},
     "output_type": "execute_result"
    },
    {
     "data": {
      "image/png": "[encoded data removed]",
      "text/plain": [
       "<Figure size 500x300 with 2 Axes>"
      ]
     },
     "metadata": {},
     "output_type": "display_data"
    }
   ],
   "source": [
    "from sklearn.metrics import confusion_matrix\n",
    "import seaborn as sn\n",
    "import pandas as pd\n",
    "import matplotlib.pyplot as plt\n",
    "\n",
    "classes=('long','short')\n",
    "cf_matrix = confusion_matrix(output_origin, output_res)\n",
    "df_cm = pd.DataFrame(cf_matrix / np.sum(cf_matrix, axis=1)[:, None], index = [i for i in classes],\n",
    "                     columns = [i for i in classes])\n",
    "plt.figure(figsize = (5,3))\n",
    "sn.heatmap(df_cm, annot=True)\n",
    "#plt.savefig('output.png')"
   ]
  },
  {
   "cell_type": "code",
   "execution_count": 600,
   "metadata": {},
   "outputs": [
    {
     "name": "stdout",
     "output_type": "stream",
     "text": [
      "The train accuracy was 0.695\n"
     ]
    }
   ],
   "source": [
    "model=model.to(torch.device('cpu'))\n",
    "with torch.no_grad():\n",
    "    y_hat = model(X_train_tensor.cpu())\n",
    "train_predicted = torch.max(y_hat, 1)[1]\n",
    "\n",
    "print(f\"The train accuracy was {accuracy_score(train_predicted, y_train_enc):.3f}\")"
   ]
  },
  {
   "attachments": {},
   "cell_type": "markdown",
   "metadata": {},
   "source": [
    "## CNN Image Classification\n",
    "Train ResNet50 CNN"
   ]
  },
  {
   "cell_type": "code",
   "execution_count": 601,
   "metadata": {},
   "outputs": [
    {
     "name": "stdout",
     "output_type": "stream",
     "text": [
      "cuda\n"
     ]
    }
   ],
   "source": [
    "device = torch.device('cuda' if torch.cuda.is_available() else 'cpu')\n",
    "print(device)"
   ]
  },
  {
   "cell_type": "code",
   "execution_count": 602,
   "metadata": {},
   "outputs": [],
   "source": [
    "net = timm.create_model('resnet18', pretrained=True, num_classes=num_classes).to(device)\n",
    "net = net.to(device)\n",
    "net.fc=nn.Linear(net.fc.in_features,2)"
   ]
  },
  {
   "cell_type": "code",
   "execution_count": 603,
   "metadata": {},
   "outputs": [],
   "source": [
    "batch_size=5\n",
    "preprocess = transforms.Compose([\n",
    "    transforms.ToTensor(),\n",
    "    #transforms.Normalize(mean=net.default_cfg['mean'], std=net.default_cfg['std']),\n",
    "])\n",
    "\n",
    "X_train_tensor1 = torch.stack([preprocess(img) for img in X_train_img]).float().to(device)\n",
    "y_train_tensor = torch.from_numpy(y_train_enc).to(device)\n",
    "trainset = TensorDataset(X_train_tensor1, y_train_tensor)\n",
    "trainloader = DataLoader(trainset, batch_size=batch_size, shuffle=False)\n",
    "\n",
    "X_test_tensor = torch.stack([preprocess(img) for img in X_test_img]).float().to(device)\n",
    "y_test_tensor = torch.from_numpy(y_test_enc).to(device)\n",
    "testset = TensorDataset(X_test_tensor, y_test_tensor)\n",
    "testloader = DataLoader(testset, batch_size=batch_size, shuffle=False)"
   ]
  },
  {
   "cell_type": "code",
   "execution_count": 604,
   "metadata": {},
   "outputs": [],
   "source": [
    "criterion = nn.CrossEntropyLoss()\n",
    "#ptimizer = optim.SGD(net.parameters(),lr=1e-02,momentum=2,)\n",
    "optimizer = optim.Adam(net.parameters(),lr=0.001)"
   ]
  },
  {
   "cell_type": "code",
   "execution_count": 605,
   "metadata": {},
   "outputs": [
    {
     "data": {
      "text/plain": [
       "'Epoch 049, batch 025'"
      ]
     },
     "metadata": {},
     "output_type": "display_data"
    }
   ],
   "source": [
    "net.train()\n",
    "net = net.to(device)\n",
    "for epoch in range(50):\n",
    "    for i, (inputs, labels) in enumerate(trainloader):\n",
    "        clear_output(wait=True)\n",
    "        display(f\"Epoch {epoch:03d}, batch {i:03d}\")\n",
    "        optimizer.zero_grad()\n",
    "        outputs = net(inputs)\n",
    "        loss = criterion(outputs, labels)\n",
    "        loss.backward()\n",
    "        optimizer.step()"
   ]
  },
  {
   "cell_type": "code",
   "execution_count": 608,
   "metadata": {},
   "outputs": [
    {
     "name": "stdout",
     "output_type": "stream",
     "text": [
      "The train accuracy was 0.773\n",
      "The test accuracy was 0.656\n"
     ]
    }
   ],
   "source": [
    "test_predicted = np.empty(0)\n",
    "test_true = np.empty(0)\n",
    "net=net.to(device)\n",
    "net.eval()\n",
    "\n",
    "\n",
    "with torch.no_grad():\n",
    "    for i, (inputs, labels) in enumerate(testloader):\n",
    "        pred = torch.max(net(inputs),1)[1].cpu().detach().numpy()\n",
    "        test_predicted = np.append(test_predicted, pred)\n",
    "        test_true = np.append(test_true, labels.cpu().detach().numpy())\n",
    "\n",
    "net=net.to(torch.device('cpu'))\n",
    "with torch.no_grad():\n",
    "    y_hat = net(X_train_tensor1.cpu())\n",
    "train_predicted = torch.max(y_hat, 1)[1]\n",
    "\n",
    "print(f\"The train accuracy was {accuracy_score(train_predicted, y_train_enc):.3f}\")\n",
    "print(f\"The test accuracy was {accuracy_score(test_predicted, test_true):.3f}\")\n"
   ]
  },
  {
   "cell_type": "code",
   "execution_count": 609,
   "metadata": {},
   "outputs": [
    {
     "data": {
      "text/plain": [
       "<Axes: >"
      ]
     },
     "execution_count": 609,
     "metadata": {},
     "output_type": "execute_result"
    },
    {
     "data": {
      "image/png": "[encoded data removed]",
      "text/plain": [
       "<Figure size 500x300 with 2 Axes>"
      ]
     },
     "metadata": {},
     "output_type": "display_data"
    }
   ],
   "source": [
    "classes=('long','short')\n",
    "cf_matrix = confusion_matrix(test_true, test_predicted)\n",
    "df_cm = pd.DataFrame(cf_matrix / np.sum(cf_matrix, axis=1)[:, None], index = [i for i in classes],\n",
    "                     columns = [i for i in classes])\n",
    "plt.figure(figsize = (5,3))\n",
    "sn.heatmap(df_cm, annot=True)\n",
    "#plt.savefig('output.png')"
   ]
  },
  {
   "cell_type": "markdown",
   "metadata": {},
   "source": [
    "## SqueezeNet"
   ]
  },
  {
   "cell_type": "code",
   "execution_count": null,
   "metadata": {},
   "outputs": [],
   "source": [
    "import torchvision\n",
    "device1 = torch.device('cuda' if torch.cuda.is_available() else 'cpu')"
   ]
  },
  {
   "cell_type": "code",
   "execution_count": null,
   "metadata": {},
   "outputs": [],
   "source": [
    "model_sq = torchvision.models.squeezenet1_1(weights='DEFAULT')\n",
    "model_sq.classifier.append(nn.Flatten())\n",
    "_ = model_sq.classifier.append(nn.Linear(1000, num_classes))\n",
    "\n",
    "##transforming image to tensor\n",
    "preprocess = transforms.Compose([\n",
    "    transforms.ToTensor()\n",
    "])"
   ]
  },
  {
   "cell_type": "code",
   "execution_count": null,
   "metadata": {},
   "outputs": [],
   "source": [
    "X_train_tensor_sq = torch.stack([preprocess(img) for img in X_train_img]).float()\n",
    "y_train_tensor_sq = torch.from_numpy(le.fit_transform(y_train))\n",
    "\n",
    "X_test_tensor_sq = torch.stack([preprocess(img) for img in X_test_img]).float()\n",
    "y_test_tensor_sq = torch.from_numpy(le.transform(y_test))"
   ]
  },
  {
   "cell_type": "markdown",
   "metadata": {},
   "source": [
    "Generate pyTorch datasets and dataloaders for training and testing sets."
   ]
  },
  {
   "cell_type": "code",
   "execution_count": null,
   "metadata": {},
   "outputs": [],
   "source": [
    "batch_size = 10\n",
    "\n",
    "trainset = TensorDataset(X_train_tensor_sq, y_train_tensor_sq)\n",
    "trainloader = DataLoader(trainset, batch_size=batch_size, shuffle=True)\n",
    "\n",
    "testset = TensorDataset(X_test_tensor_sq, y_test_tensor_sq)\n",
    "testloader = DataLoader(testset, batch_size=batch_size, shuffle=False)"
   ]
  },
  {
   "cell_type": "markdown",
   "metadata": {},
   "source": [
    "Specify loss function and optimization algorithm"
   ]
  },
  {
   "cell_type": "code",
   "execution_count": null,
   "metadata": {},
   "outputs": [],
   "source": [
    "criterion = nn.CrossEntropyLoss()\n",
    "optimizer = optim.AdamW(\n",
    "    model_sq.parameters(),\n",
    "    lr=1e-04,\n",
    "    #momentum=0.8,\n",
    "    weight_decay=1e-05\n",
    ")"
   ]
  },
  {
   "attachments": {},
   "cell_type": "markdown",
   "metadata": {},
   "source": [
    "## DeepFeature: CAM-based Feature Selection"
   ]
  },
  {
   "cell_type": "code",
   "execution_count": null,
   "metadata": {},
   "outputs": [],
   "source": [
    "model_sq.train()\n",
    "model_sq.to(device1)\n",
    "for epoch in range(120):\n",
    "\n",
    "    running_loss = 0.0\n",
    "    for i, data in enumerate(trainloader, 0):\n",
    "        # get the inputs; data is a list of [inputs, labels]\n",
    "        inputs, labels = data\n",
    "        inputs = inputs.to(device1)\n",
    "        labels = labels.to(device1)\n",
    "\n",
    "        outputs = model_sq(inputs)\n",
    "        loss = criterion(outputs, labels)\n",
    "        \n",
    "        optimizer.zero_grad()\n",
    "        loss.backward()\n",
    "        optimizer.step()\n",
    "\n",
    "        running_loss += loss.item()\n",
    "    # print epoch statistics\n",
    "    if not (epoch % 20):\n",
    "        print(f'[{epoch}] loss: {running_loss / len(X_train_tensor_sq) * batch_size:.3f}')\n",
    "print(f'[{epoch}] loss: {running_loss / len(X_train_tensor_sq) * batch_size:.3f}')"
   ]
  },
  {
   "cell_type": "code",
   "execution_count": null,
   "metadata": {},
   "outputs": [],
   "source": [
    "model_sq.to('cpu')\n",
    "model_sq = model_sq.eval()\n",
    "\n",
    "with torch.no_grad():\n",
    "    y_hat = model_sq(X_train_tensor_sq)\n",
    "train_predicted = torch.max(y_hat, 1)[1]\n",
    "\n",
    "\n",
    "with torch.no_grad():\n",
    "    y_hat = model_sq(X_test_tensor_sq)\n",
    "test_predicted = torch.max(y_hat, 1)[1]\n",
    "\n",
    "print(f\"The train accuracy was {accuracy_score(train_predicted, y_train_tensor_sq):.3f}\")\n",
    "print(f\"The test accuracy was {accuracy_score(test_predicted, y_test_tensor_sq):.3f}\")"
   ]
  },
  {
   "cell_type": "code",
   "execution_count": null,
   "metadata": {},
   "outputs": [],
   "source": [
    "cm_method='GradCAM'\n",
    "camfs = CAMFeatureSelector(\n",
    "    model=net,\n",
    "    it=it,\n",
    "    cam_method=cm_method\n",
    ")"
   ]
  },
  {
   "cell_type": "code",
   "execution_count": null,
   "metadata": {},
   "outputs": [],
   "source": [
    "fl_method = \"mean\"\n",
    "class_cam = camfs.calculate_class_activations(X_train_tensor, y_train_tensor, batch_size=100, flatten_method=fl_method)"
   ]
  },
  {
   "cell_type": "code",
   "execution_count": null,
   "metadata": {},
   "outputs": [],
   "source": [
    "fs_threshold = 0.6\n",
    "feat_idx = camfs.select_class_features(cams=class_cam, threshold=fs_threshold)"
   ]
  },
  {
   "cell_type": "code",
   "execution_count": null,
   "metadata": {},
   "outputs": [],
   "source": [
    "from pytorch_grad_cam.utils.image import show_cam_on_image\n",
    "from matplotlib import pyplot as plt\n",
    "\n",
    "def cam_image(X, y, cam, fs, threshold):\n",
    "    fig, axs = plt.subplots(ncols=4, nrows=2, figsize=(8, 4),\n",
    "                            constrained_layout=True)\n",
    "    for cat in np.unique(y):\n",
    "        row = cat // 4\n",
    "        col = cat % 4\n",
    "        cat_idx = np.where(y == cat)[0]\n",
    "        X_cat = X[cat_idx,:,:,:].detach().mean(dim=0).cpu().numpy()\n",
    "        cam_cat = cam[cat].copy()\n",
    "        cam_cat[cam_cat <= threshold] = 0\n",
    "        visualization = show_cam_on_image(\n",
    "            np.transpose(X_cat, (1,2,0)),\n",
    "            cam_cat,\n",
    "            use_rgb=True\n",
    "        )\n",
    "        _ = axs[row, col].imshow(visualization)\n",
    "        axs[row, col].text(0,0,le_mapping[cat],c=\"white\",ha=\"left\",va=\"top\",weight=\"bold\",size=\"x-large\")\n",
    "        axs[row, col].text(227,227,f\"{fs[cat].shape[0]} genes\",c=\"white\",ha=\"right\",va=\"bottom\",weight=\"bold\",size=\"large\")\n",
    "        axs[row, col].axis('off')\n",
    "    return fig, axs"
   ]
  },
  {
   "cell_type": "code",
   "execution_count": null,
   "metadata": {},
   "outputs": [],
   "source": [
    "_ = cam_image(X_train_tensor, y_train_tensor.detach().cpu().numpy(), class_cam, feat_idx, fs_threshold)"
   ]
  },
  {
   "cell_type": "code",
   "execution_count": null,
   "metadata": {},
   "outputs": [],
   "source": [
    "for cat, idx in feat_idx.items():\n",
    "    feature_names = genes[idx]\n",
    "    print(f\"{idx.shape[0]:5} features selected for {le_mapping[cat]:4}: {', '.join(feature_names[1:10])}...\")"
   ]
  }
 ],
 "metadata": {
  "kernelspec": {
   "display_name": "DInsight",
   "language": "python",
   "name": "python3"
  },
  "language_info": {
   "codemirror_mode": {
    "name": "ipython",
    "version": 3
   },
   "file_extension": ".py",
   "mimetype": "text/x-python",
   "name": "python",
   "nbconvert_exporter": "python",
   "pygments_lexer": "ipython3",
   "version": "3.8.undefined"
  },
  "orig_nbformat": 4
 },
 "nbformat": 4,
 "nbformat_minor": 2
}
