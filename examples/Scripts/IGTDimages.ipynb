{
 "cells": [
  {
   "cell_type": "code",
   "execution_count": 20,
   "metadata": {},
   "outputs": [],
   "source": [
    "import torch\n",
    "from PIL import Image\n",
    "import torchvision.transforms as transforms\n",
    "from torchvision import datasets\n",
    "import numpy as np\n",
    "import json\n",
    "import requests\n",
    "import matplotlib.pyplot as plt\n",
    "import warnings\n",
    "warnings.filterwarnings('ignore')"
   ]
  },
  {
   "cell_type": "code",
   "execution_count": 21,
   "metadata": {},
   "outputs": [],
   "source": [
    "import os\n",
    "from tqdm import notebook, tnrange, tqdm\n",
    "from skimage.io import imread, imshow, concatenate_images\n",
    "from skimage.transform import resize\n",
    "from skimage.morphology import label\n",
    "\n",
    "img_height=393\n",
    "img_width=397"
   ]
  },
  {
   "cell_type": "code",
   "execution_count": 22,
   "metadata": {},
   "outputs": [
    {
     "name": "stdout",
     "output_type": "stream",
     "text": [
      "no of images :  111\n",
      "no of images :  48\n"
     ]
    }
   ],
   "source": [
    "id_long=next(os.walk(\"/home/shelia/AllFiles/Research_tuly/pyDeepInsight/pyDeepInsight_SRT/examples/data/desmeth/long\"))[2]\n",
    "print(\"no of images : \", len(id_long))\n",
    "\n",
    "id_short=next(os.walk(\"/home/shelia/AllFiles/Research_tuly/pyDeepInsight/pyDeepInsight_SRT/examples/data/desmeth/short\"))[2]\n",
    "print(\"no of images : \", len(id_short))"
   ]
  },
  {
   "cell_type": "code",
   "execution_count": null,
   "metadata": {},
   "outputs": [],
   "source": [
    "X1 = np.zeros((len(id_long), img_height, img_width, 1), dtype=np.float32)\n",
    "X2 = np.zeros((len(id_short), img_height, img_width, 1), dtype=np.float32)"
   ]
  },
  {
   "cell_type": "code",
   "execution_count": 23,
   "metadata": {},
   "outputs": [],
   "source": [
    "from torchvision import datasets, transforms\n",
    "from skimage.io import imread, imshow, concatenate_images\n",
    "#import helper"
   ]
  },
  {
   "cell_type": "code",
   "execution_count": 24,
   "metadata": {},
   "outputs": [],
   "source": [
    "data_dir1 = \"/home/shelia/AllFiles/Research_tuly/pyDeepInsight/pyDeepInsight_SRT/examples/data/desmeth\"\n",
    "#data_dir2=  \"/home/shelia/AllFiles/Research_tuly/pyDeepInsight/pyDeepInsight_SRT/examples/data/desmeth/short\"\n",
    "transform = transforms.Compose([transforms.Resize(224),\n",
    "transforms.ToTensor()])\n",
    "im_dataset1 = datasets.ImageFolder(data_dir1, transform=transform)\n",
    "#im_dataset2 = datasets.ImageFolder(data_dir2, transform=transform)"
   ]
  },
  {
   "cell_type": "code",
   "execution_count": null,
   "metadata": {},
   "outputs": [],
   "source": [
    "im_dataset1"
   ]
  },
  {
   "cell_type": "code",
   "execution_count": 25,
   "metadata": {},
   "outputs": [],
   "source": [
    "train_size = int(0.8 * len(im_dataset1))\n",
    "test_size = len(im_dataset1) - train_size\n",
    "train_dataset, test_dataset = torch.utils.data.random_split(im_dataset1, [train_size, test_size])\n",
    "dataloaders={'train':torch.utils.data.DataLoader(train_dataset,batch_size=10, shuffle=True),'test':torch.utils.data.DataLoader(test_dataset,batch_size=10, shuffle=True)}"
   ]
  },
  {
   "cell_type": "code",
   "execution_count": 41,
   "metadata": {},
   "outputs": [
    {
     "ename": "AttributeError",
     "evalue": "'ImageFolder' object has no attribute 'shape'",
     "output_type": "error",
     "traceback": [
      "\u001b[0;31m---------------------------------------------------------------------------\u001b[0m",
      "\u001b[0;31mAttributeError\u001b[0m                            Traceback (most recent call last)",
      "\u001b[1;32m/home/shelia/AllFiles/Research_tuly/pyDeepInsight/pyDeepInsight_SRT/examples/Scripts/IGTDimages.ipynb Cell 9\u001b[0m line \u001b[0;36m1\n\u001b[0;32m----> <a href='vscode-notebook-cell:/home/shelia/AllFiles/Research_tuly/pyDeepInsight/pyDeepInsight_SRT/examples/Scripts/IGTDimages.ipynb#X23sZmlsZQ%3D%3D?line=0'>1</a>\u001b[0m im_dataset1\u001b[39m.\u001b[39;49mshape\n",
      "\u001b[0;31mAttributeError\u001b[0m: 'ImageFolder' object has no attribute 'shape'"
     ]
    }
   ],
   "source": [
    "im_dataset1.shape"
   ]
  },
  {
   "cell_type": "code",
   "execution_count": 26,
   "metadata": {},
   "outputs": [
    {
     "name": "stdout",
     "output_type": "stream",
     "text": [
      "cuda\n"
     ]
    }
   ],
   "source": [
    "device = torch.device('cuda' if torch.cuda.is_available() else 'cpu')\n",
    "print(device)"
   ]
  },
  {
   "cell_type": "code",
   "execution_count": 27,
   "metadata": {},
   "outputs": [],
   "source": [
    "import timm\n",
    "import torch.nn as nn\n",
    "import torch.optim as optim\n",
    "from sklearn.metrics import accuracy_score\n",
    "from torch.utils.data import TensorDataset, DataLoader"
   ]
  },
  {
   "cell_type": "code",
   "execution_count": 61,
   "metadata": {},
   "outputs": [],
   "source": [
    "net = timm.create_model('resnet50', pretrained=True, num_classes=2).to(device)\n",
    "net = net.to(device)\n",
    "net.fc=torch.nn.Sequential(\n",
    "               torch.nn.Linear(2048, 128),\n",
    "               torch.nn.ReLU(inplace=True),\n",
    "               torch.nn.Linear(128, 2)).to(device)\n"
   ]
  },
  {
   "cell_type": "code",
   "execution_count": 62,
   "metadata": {},
   "outputs": [],
   "source": [
    "batch_size=10\n",
    "preprocess = transforms.Compose([\n",
    "    transforms.ToTensor(),\n",
    "    #transforms.Normalize(mean=net.default_cfg['mean'], std=net.default_cfg['std']),\n",
    "])\n",
    "\n",
    "\n",
    "trainloader = DataLoader(train_dataset, batch_size=batch_size, shuffle=False)\n",
    "\n",
    "testloader = DataLoader(test_dataset, batch_size=batch_size, shuffle=False)"
   ]
  },
  {
   "cell_type": "code",
   "execution_count": 63,
   "metadata": {},
   "outputs": [],
   "source": [
    "criterion = nn.CrossEntropyLoss()\n",
    "#ptimizer = optim.SGD(net.parameters(),lr=1e-02,momentum=2,)\n",
    "optimizer = optim.Adam(net.parameters(),lr=0.0001)"
   ]
  },
  {
   "cell_type": "code",
   "execution_count": 64,
   "metadata": {},
   "outputs": [],
   "source": [
    "from IPython.display import clear_output,display"
   ]
  },
  {
   "cell_type": "code",
   "execution_count": 65,
   "metadata": {},
   "outputs": [],
   "source": [
    "def train_model(model, criterion, optimizer, num_epochs=10):\n",
    "    for epoch in range(num_epochs):\n",
    "        print('Epoch {}/{}'.format(epoch+1, num_epochs))\n",
    "        print('-' * 10)\n",
    "\n",
    "        for phase in ['train', 'test']:\n",
    "            if phase == 'train':\n",
    "\n",
    "                model.train()\n",
    "            else:\n",
    "                model.eval()\n",
    "\n",
    "            running_loss = 0.0\n",
    "            running_corrects = 0.0\n",
    "\n",
    "            for inputs, labels in dataloaders[phase]:\n",
    "                inputs = inputs.to(device)\n",
    "                labels = labels.to(device)\n",
    "\n",
    "                outputs = model(inputs)\n",
    "                loss = criterion(outputs, labels)\n",
    "\n",
    "                if phase == 'train':\n",
    "                    optimizer.zero_grad()\n",
    "                    loss.backward()\n",
    "                    optimizer.step()\n",
    "\n",
    "                _, preds = torch.max(outputs, 1)\n",
    "                running_loss += loss.item() * inputs.size(0)\n",
    "                running_corrects += torch.sum(preds == labels.data)\n",
    "            if phase == 'train':\n",
    "                epoch_loss = running_loss / len(train_dataset)\n",
    "                epoch_acc = running_corrects.double() / len(train_dataset)\n",
    "            else:\n",
    "                epoch_loss = running_loss / len(test_dataset)\n",
    "                epoch_acc = running_corrects.double() / len(test_dataset)\n",
    "\n",
    "\n",
    "            print('{} loss: {:.4f}, acc: {:.4f}'.format(phase,\n",
    "                                                        epoch_loss,\n",
    "                                                        epoch_acc))\n",
    "    return model"
   ]
  },
  {
   "cell_type": "code",
   "execution_count": 68,
   "metadata": {},
   "outputs": [
    {
     "name": "stdout",
     "output_type": "stream",
     "text": [
      "Epoch 1/10\n",
      "----------\n",
      "train loss: 0.0847, acc: 0.9764\n",
      "test loss: 0.9199, acc: 0.6562\n",
      "Epoch 2/10\n",
      "----------\n",
      "train loss: 0.0486, acc: 0.9843\n",
      "test loss: 0.7412, acc: 0.6250\n",
      "Epoch 3/10\n",
      "----------\n",
      "train loss: 0.0701, acc: 0.9764\n",
      "test loss: 0.8224, acc: 0.8125\n",
      "Epoch 4/10\n",
      "----------\n",
      "train loss: 0.0380, acc: 0.9921\n",
      "test loss: 0.9504, acc: 0.7500\n",
      "Epoch 5/10\n",
      "----------\n",
      "train loss: 0.0182, acc: 1.0000\n",
      "test loss: 1.0139, acc: 0.6875\n",
      "Epoch 6/10\n",
      "----------\n",
      "train loss: 0.0169, acc: 0.9921\n",
      "test loss: 0.8658, acc: 0.6875\n",
      "Epoch 7/10\n",
      "----------\n",
      "train loss: 0.0106, acc: 1.0000\n",
      "test loss: 0.9735, acc: 0.6875\n",
      "Epoch 8/10\n",
      "----------\n",
      "train loss: 0.0510, acc: 0.9921\n",
      "test loss: 1.0842, acc: 0.6562\n",
      "Epoch 9/10\n",
      "----------\n",
      "train loss: 0.0172, acc: 1.0000\n",
      "test loss: 0.9246, acc: 0.6250\n",
      "Epoch 10/10\n",
      "----------\n",
      "train loss: 0.0130, acc: 1.0000\n",
      "test loss: 0.9105, acc: 0.7188\n"
     ]
    }
   ],
   "source": [
    "model_trained = train_model(net, criterion, optimizer, num_epochs=10)"
   ]
  },
  {
   "cell_type": "code",
   "execution_count": null,
   "metadata": {},
   "outputs": [],
   "source": []
  }
 ],
 "metadata": {
  "kernelspec": {
   "display_name": "DInsight",
   "language": "python",
   "name": "python3"
  },
  "language_info": {
   "codemirror_mode": {
    "name": "ipython",
    "version": 3
   },
   "file_extension": ".py",
   "mimetype": "text/x-python",
   "name": "python",
   "nbconvert_exporter": "python",
   "pygments_lexer": "ipython3",
   "version": "3.8.17"
  }
 },
 "nbformat": 4,
 "nbformat_minor": 2
}
